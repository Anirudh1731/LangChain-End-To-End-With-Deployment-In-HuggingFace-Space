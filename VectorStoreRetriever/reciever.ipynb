{
 "cells": [
  {
   "cell_type": "code",
   "execution_count": 2,
   "metadata": {},
   "outputs": [
    {
     "name": "stdout",
     "output_type": "stream",
     "text": [
      "page_content='Dogs are great champions.' metadata={'source': 'mammal-pet-doc'}\n",
      "page_content='Cats are curious creatures.' metadata={'source': 'mammal-pet-doc'}\n",
      "page_content='Elephants are the largest land animals.' metadata={'source': 'wildlife-doc'}\n",
      "page_content='Whales are the giants of the ocean.' metadata={'source': 'marine-life-doc'}\n",
      "page_content='Birds have feathers and can often fly.' metadata={'source': 'avian-doc'}\n"
     ]
    }
   ],
   "source": [
    "from langchain_core.documents import Document\n",
    "\n",
    "# Create multiple Document instances\n",
    "documents = [\n",
    "    Document(page_content=\"Dogs are great champions.\", metadata={\"source\": \"mammal-pet-doc\"}),\n",
    "    Document(page_content=\"Cats are curious creatures.\", metadata={\"source\": \"mammal-pet-doc\"}),\n",
    "    Document(page_content=\"Elephants are the largest land animals.\", metadata={\"source\": \"wildlife-doc\"}),\n",
    "    Document(page_content=\"Whales are the giants of the ocean.\", metadata={\"source\": \"marine-life-doc\"}),\n",
    "    Document(page_content=\"Birds have feathers and can often fly.\", metadata={\"source\": \"avian-doc\"})\n",
    "]\n",
    "\n",
    "# Print to verify\n",
    "for doc in documents:\n",
    "    print(doc)\n"
   ]
  },
  {
   "cell_type": "code",
   "execution_count": 3,
   "metadata": {},
   "outputs": [],
   "source": [
    "#Vector stores\n",
    "from langchain_chroma import Chroma\n",
    "import os\n",
    "from langchain_groq import ChatGroq\n",
    "from dotenv import load_dotenv\n",
    "load_dotenv()\n",
    "\n",
    "groq_api_key=os.getenv('GROQ_API_KEY')\n"
   ]
  },
  {
   "cell_type": "code",
   "execution_count": 4,
   "metadata": {},
   "outputs": [
    {
     "data": {
      "text/plain": [
       "ChatGroq(client=<groq.resources.chat.completions.Completions object at 0x00000236BE6D5090>, async_client=<groq.resources.chat.completions.AsyncCompletions object at 0x00000236BE6D5D20>, model_name='Llama3-8b-8192', model_kwargs={}, groq_api_key=SecretStr('**********'))"
      ]
     },
     "execution_count": 4,
     "metadata": {},
     "output_type": "execute_result"
    }
   ],
   "source": [
    "llm=ChatGroq(groq_api_key=groq_api_key,model='Llama3-8b-8192')\n",
    "llm"
   ]
  },
  {
   "cell_type": "code",
   "execution_count": 5,
   "metadata": {},
   "outputs": [
    {
     "name": "stderr",
     "output_type": "stream",
     "text": [
      "C:\\Users\\Anirudh\\AppData\\Local\\Temp\\ipykernel_11316\\4066768228.py:3: LangChainDeprecationWarning: The class `OllamaEmbeddings` was deprecated in LangChain 0.3.1 and will be removed in 1.0.0. An updated version of the class exists in the :class:`~langchain-ollama package and should be used instead. To use it run `pip install -U :class:`~langchain-ollama` and import as `from :class:`~langchain_ollama import OllamaEmbeddings``.\n",
      "  embedding=OllamaEmbeddings(model=\"gemma:2b\")\n"
     ]
    }
   ],
   "source": [
    "#To store the data in the vectorestore we need to convert to embeddings\n",
    "from langchain_community.embeddings import OllamaEmbeddings\n",
    "embedding=OllamaEmbeddings(model=\"gemma:2b\")\n"
   ]
  },
  {
   "cell_type": "code",
   "execution_count": 6,
   "metadata": {},
   "outputs": [
    {
     "data": {
      "text/plain": [
       "<langchain_community.vectorstores.faiss.FAISS at 0x236fe9a65f0>"
      ]
     },
     "execution_count": 6,
     "metadata": {},
     "output_type": "execute_result"
    }
   ],
   "source": [
    "from langchain_chroma import Chroma\n",
    "from langchain_community.vectorstores import FAISS\n",
    "db=FAISS.from_documents(documents,embedding)\n",
    "db\n",
    "# #All documents get converted to vectore by considering embedding \n",
    "# vectorstore=Chroma.from_documents(documents,embedding=embedding)"
   ]
  },
  {
   "cell_type": "code",
   "execution_count": 7,
   "metadata": {},
   "outputs": [
    {
     "data": {
      "text/plain": [
       "[Document(id='20ec3f40-50f2-4f7f-ab14-8d4850363bad', metadata={'source': 'mammal-pet-doc'}, page_content='Cats are curious creatures.'),\n",
       " Document(id='3ac4c7a5-5b86-4f97-be75-f0f8f0f71ef0', metadata={'source': 'mammal-pet-doc'}, page_content='Dogs are great champions.'),\n",
       " Document(id='4d60b5a0-65b1-4f0e-8647-0090ae806a77', metadata={'source': 'avian-doc'}, page_content='Birds have feathers and can often fly.'),\n",
       " Document(id='1ffcf363-7736-4f9b-b822-15c73da9d66e', metadata={'source': 'wildlife-doc'}, page_content='Elephants are the largest land animals.')]"
      ]
     },
     "execution_count": 7,
     "metadata": {},
     "output_type": "execute_result"
    }
   ],
   "source": [
    "db.similarity_search('cat')"
   ]
  },
  {
   "cell_type": "code",
   "execution_count": 8,
   "metadata": {},
   "outputs": [
    {
     "data": {
      "text/plain": [
       "[(Document(id='20ec3f40-50f2-4f7f-ab14-8d4850363bad', metadata={'source': 'mammal-pet-doc'}, page_content='Cats are curious creatures.'),\n",
       "  4927.949),\n",
       " (Document(id='3ac4c7a5-5b86-4f97-be75-f0f8f0f71ef0', metadata={'source': 'mammal-pet-doc'}, page_content='Dogs are great champions.'),\n",
       "  4935.481),\n",
       " (Document(id='4d60b5a0-65b1-4f0e-8647-0090ae806a77', metadata={'source': 'avian-doc'}, page_content='Birds have feathers and can often fly.'),\n",
       "  5321.375),\n",
       " (Document(id='1ffcf363-7736-4f9b-b822-15c73da9d66e', metadata={'source': 'wildlife-doc'}, page_content='Elephants are the largest land animals.'),\n",
       "  5337.596)]"
      ]
     },
     "execution_count": 8,
     "metadata": {},
     "output_type": "execute_result"
    }
   ],
   "source": [
    "db.similarity_search_with_score('cat')"
   ]
  },
  {
   "cell_type": "code",
   "execution_count": 9,
   "metadata": {},
   "outputs": [
    {
     "data": {
      "text/plain": [
       "[[Document(id='20ec3f40-50f2-4f7f-ab14-8d4850363bad', metadata={'source': 'mammal-pet-doc'}, page_content='Cats are curious creatures.')],\n",
       " [Document(id='3ac4c7a5-5b86-4f97-be75-f0f8f0f71ef0', metadata={'source': 'mammal-pet-doc'}, page_content='Dogs are great champions.')]]"
      ]
     },
     "execution_count": 9,
     "metadata": {},
     "output_type": "execute_result"
    }
   ],
   "source": [
    "#Retriever\n",
    "#Vetorstore cannot be directly integrated with chain operations hence we need to convert to retriver \n",
    "\n",
    "retriever=db.as_retriever(\n",
    "    search_type=\"similarity\",\n",
    "    search_kwargs={\"k\":1}\n",
    ")\n",
    "\n",
    "retriever.batch(['cat','dog'])"
   ]
  },
  {
   "cell_type": "code",
   "execution_count": 10,
   "metadata": {},
   "outputs": [
    {
     "data": {
      "text/plain": [
       "AIMessage(content='According to the provided context, dogs are great champions.', additional_kwargs={}, response_metadata={'token_usage': {'completion_tokens': 12, 'prompt_tokens': 80, 'total_tokens': 92, 'completion_time': 0.01, 'prompt_time': 0.015236715, 'queue_time': 0.05841866800000001, 'total_time': 0.025236715}, 'model_name': 'Llama3-8b-8192', 'system_fingerprint': 'fp_6a6771ae9c', 'finish_reason': 'stop', 'logprobs': None}, id='run-96272faa-2793-4c58-8ee9-34e636e0222c-0', usage_metadata={'input_tokens': 80, 'output_tokens': 12, 'total_tokens': 92})"
      ]
     },
     "execution_count": 10,
     "metadata": {},
     "output_type": "execute_result"
    }
   ],
   "source": [
    "from langchain_core.prompts import ChatPromptTemplate\n",
    "from langchain_core.runnables import RunnablePassthrough\n",
    "\n",
    "\n",
    "message=\"\"\"\n",
    "Answer this question using provded context only \n",
    "{question}\n",
    "\n",
    "Context:\n",
    "{context}\n",
    "\"\"\"\n",
    "\n",
    "\n",
    "prompt=ChatPromptTemplate.from_messages([(\"human\",message)])\n",
    "\n",
    "#Using retriever in chain\n",
    "rag_chain={\"context\":retriever,\"question\":RunnablePassthrough()} |prompt|llm\n",
    "\n",
    "\n",
    "rag_chain.invoke(\"tell me about dogs\")"
   ]
  },
  {
   "cell_type": "code",
   "execution_count": null,
   "metadata": {},
   "outputs": [],
   "source": []
  }
 ],
 "metadata": {
  "kernelspec": {
   "display_name": "lang",
   "language": "python",
   "name": "python3"
  },
  "language_info": {
   "codemirror_mode": {
    "name": "ipython",
    "version": 3
   },
   "file_extension": ".py",
   "mimetype": "text/x-python",
   "name": "python",
   "nbconvert_exporter": "python",
   "pygments_lexer": "ipython3",
   "version": "3.10.1"
  }
 },
 "nbformat": 4,
 "nbformat_minor": 2
}
