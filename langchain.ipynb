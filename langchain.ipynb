{
 "cells": [
  {
   "cell_type": "code",
   "execution_count": 1,
   "metadata": {},
   "outputs": [],
   "source": [
    "from langchain.llms import OpenAI"
   ]
  },
  {
   "cell_type": "code",
   "execution_count": 2,
   "metadata": {},
   "outputs": [],
   "source": [
    "import os\n",
    "os.environ[\"OPEN_API_KEY\"]="
   ]
  },
  {
   "cell_type": "code",
   "execution_count": 3,
   "metadata": {},
   "outputs": [
    {
     "name": "stderr",
     "output_type": "stream",
     "text": [
      "c:\\Users\\Anirudh\\OneDrive\\Desktop\\LangChain_End_To_End\\lang\\lib\\site-packages\\langchain_core\\_api\\deprecation.py:117: LangChainDeprecationWarning: The class `langchain_community.llms.openai.OpenAI` was deprecated in langchain-community 0.0.10 and will be removed in 0.2.0. An updated version of the class exists in the langchain-openai package and should be used instead. To use it run `pip install -U langchain-openai` and import as `from langchain_openai import OpenAI`.\n",
      "  warn_deprecated(\n"
     ]
    }
   ],
   "source": [
    "llm=OpenAI(openai_api_key=os.environ[\"OPEN_API_KEY\"],temperature=0.6)"
   ]
  },
  {
   "cell_type": "code",
   "execution_count": 4,
   "metadata": {},
   "outputs": [
    {
     "name": "stderr",
     "output_type": "stream",
     "text": [
      "c:\\Users\\Anirudh\\OneDrive\\Desktop\\LangChain_End_To_End\\lang\\lib\\site-packages\\langchain_core\\_api\\deprecation.py:117: LangChainDeprecationWarning: The function `predict` was deprecated in LangChain 0.1.7 and will be removed in 0.2.0. Use invoke instead.\n",
      "  warn_deprecated(\n"
     ]
    },
    {
     "data": {
      "text/plain": [
       "'\\n\\nThe capital of India is New Delhi.'"
      ]
     },
     "execution_count": 4,
     "metadata": {},
     "output_type": "execute_result"
    }
   ],
   "source": [
    "text=\"What is the capital of india?\"\n",
    "\n",
    "llm.predict(text)"
   ]
  },
  {
   "cell_type": "code",
   "execution_count": 5,
   "metadata": {},
   "outputs": [],
   "source": [
    "import os\n",
    "os.environ[\"HUGGINGFACEHUB_API_TOKEN\"]="
   ]
  },
  {
   "cell_type": "code",
   "execution_count": 6,
   "metadata": {},
   "outputs": [
    {
     "name": "stderr",
     "output_type": "stream",
     "text": [
      "c:\\Users\\Anirudh\\OneDrive\\Desktop\\LangChain_End_To_End\\lang\\lib\\site-packages\\langchain_core\\_api\\deprecation.py:117: LangChainDeprecationWarning: The class `langchain_community.llms.huggingface_hub.HuggingFaceHub` was deprecated in langchain-community 0.0.21 and will be removed in 0.2.0. Use HuggingFaceEndpoint instead.\n",
      "  warn_deprecated(\n",
      "c:\\Users\\Anirudh\\OneDrive\\Desktop\\LangChain_End_To_End\\lang\\lib\\site-packages\\tqdm\\auto.py:21: TqdmWarning: IProgress not found. Please update jupyter and ipywidgets. See https://ipywidgets.readthedocs.io/en/stable/user_install.html\n",
      "  from .autonotebook import tqdm as notebook_tqdm\n"
     ]
    }
   ],
   "source": [
    "from langchain import HuggingFaceHub\n",
    "llm_huggingface=HuggingFaceHub(repo_id=\"google/flan-t5-large\",model_kwargs={\"temperature\":0,\"max_length\":64})"
   ]
  },
  {
   "cell_type": "code",
   "execution_count": 7,
   "metadata": {},
   "outputs": [],
   "source": [
    "output=llm_huggingface.predict(\"Can u tell me capital of russia\")"
   ]
  },
  {
   "cell_type": "code",
   "execution_count": 8,
   "metadata": {},
   "outputs": [
    {
     "data": {
      "text/plain": [
       "'Moscow'"
      ]
     },
     "execution_count": 8,
     "metadata": {},
     "output_type": "execute_result"
    }
   ],
   "source": [
    "output"
   ]
  },
  {
   "cell_type": "code",
   "execution_count": 9,
   "metadata": {},
   "outputs": [],
   "source": [
    "from langchain.prompts import PromptTemplate"
   ]
  },
  {
   "cell_type": "code",
   "execution_count": 10,
   "metadata": {},
   "outputs": [
    {
     "data": {
      "text/plain": [
       "'Tell me the capital of this India'"
      ]
     },
     "execution_count": 10,
     "metadata": {},
     "output_type": "execute_result"
    }
   ],
   "source": [
    "prompt_template=PromptTemplate(input_variables=['country'],template=\"Tell me the capital of this {country}\")\n",
    "\n",
    "prompt_template.format(country=\"India\")"
   ]
  },
  {
   "cell_type": "code",
   "execution_count": 11,
   "metadata": {},
   "outputs": [
    {
     "name": "stderr",
     "output_type": "stream",
     "text": [
      "c:\\Users\\Anirudh\\OneDrive\\Desktop\\LangChain_End_To_End\\lang\\lib\\site-packages\\langchain_core\\_api\\deprecation.py:117: LangChainDeprecationWarning: The function `run` was deprecated in LangChain 0.1.0 and will be removed in 0.2.0. Use invoke instead.\n",
      "  warn_deprecated(\n"
     ]
    },
    {
     "data": {
      "text/plain": [
       "'\\n\\nThe capital of India is New Delhi. '"
      ]
     },
     "execution_count": 11,
     "metadata": {},
     "output_type": "execute_result"
    }
   ],
   "source": [
    "#to generate output using prompt template we need to use llm chain \n",
    "from langchain.chains import LLMChain\n",
    "\n",
    "chain=LLMChain(llm=llm,prompt=prompt_template)\n",
    "chain.run(\"India\")"
   ]
  },
  {
   "cell_type": "markdown",
   "metadata": {},
   "source": [
    "# combining various LLM Chain"
   ]
  },
  {
   "cell_type": "code",
   "execution_count": 13,
   "metadata": {},
   "outputs": [],
   "source": [
    "capital_prompt=PromptTemplate(input_variables=['country'],template='please tell me the capital of the {country}')\n",
    "\n",
    "capital_chain=LLMChain(llm=llm,prompt=capital_prompt)\n",
    "\n",
    "famous_template=PromptTemplate(input_variables=['capital'],template=\"Suggest me some amazing places to visit in {capital}\")\n",
    "\n"
   ]
  },
  {
   "cell_type": "code",
   "execution_count": 14,
   "metadata": {},
   "outputs": [],
   "source": [
    "famous_chain=LLMChain(llm=llm,prompt=famous_template)"
   ]
  },
  {
   "cell_type": "code",
   "execution_count": 15,
   "metadata": {},
   "outputs": [
    {
     "data": {
      "text/plain": [
       "\" Here are some amazing places to visit in New Delhi:\\n\\n1. Red Fort - A historic fort built during the Mughal era, it is a UNESCO World Heritage Site and a must-visit for its beautiful architecture and rich history.\\n\\n2. India Gate - A war memorial dedicated to the soldiers who sacrificed their lives during World War I, it is also a popular picnic spot and a symbol of national pride.\\n\\n3. Qutub Minar - Another UNESCO World Heritage Site, this 239 feet tall minaret is the tallest brick minaret in the world and a stunning example of Indo-Islamic architecture.\\n\\n4. Lotus Temple - This beautiful temple, shaped like a lotus flower, is a Bahá'í House of Worship and welcomes people of all religions to meditate and pray.\\n\\n5. Humayun's Tomb - Yet another UNESCO World Heritage Site, this stunning tomb is the final resting place of Mughal Emperor Humayun and is a fine example of Mughal architecture.\\n\\n6. Akshardham Temple - One of the largest Hindu temples in the world, it is a must-visit for its grand architecture, intricate carvings, and beautiful gardens.\\n\\n7. Chandni Chowk - This bustling market in Old Delhi is a paradise for\""
      ]
     },
     "execution_count": 15,
     "metadata": {},
     "output_type": "execute_result"
    }
   ],
   "source": [
    "from langchain.chains import SimpleSequentialChain\n",
    "\n",
    "chain=SimpleSequentialChain(chains=[capital_chain,famous_chain])\n",
    "chain.run(\"India\")\n",
    "\n",
    "#using simple sequqntial chain we get only last chain's output"
   ]
  },
  {
   "cell_type": "markdown",
   "metadata": {},
   "source": [
    "## sequential chain"
   ]
  },
  {
   "cell_type": "code",
   "execution_count": 18,
   "metadata": {},
   "outputs": [],
   "source": [
    "## sequential chain for combining chain in order to get output with respect to both chain\n",
    "\n",
    "capital_prompt=PromptTemplate(input_variables=['country'],template='please tell me the capital of the {country}')\n",
    "\n",
    "capital_chain=LLMChain(llm=llm,prompt=capital_prompt,output_key='capital')\n",
    "\n",
    "famous_template=PromptTemplate(input_variables=['capital'],template=\"Suggest me some amazing places to visit in {capital}\")\n",
    "\n",
    "famous_chain=LLMChain(llm=llm,prompt=famous_template,output_key='places')"
   ]
  },
  {
   "cell_type": "code",
   "execution_count": 19,
   "metadata": {},
   "outputs": [],
   "source": [
    "from langchain.chains import SequentialChain\n",
    "chain=SequentialChain(chains=[capital_chain,famous_chain],input_variables=['country'],output_variables=['capital','places'])"
   ]
  },
  {
   "cell_type": "code",
   "execution_count": 20,
   "metadata": {},
   "outputs": [
    {
     "name": "stderr",
     "output_type": "stream",
     "text": [
      "c:\\Users\\Anirudh\\OneDrive\\Desktop\\LangChain_End_To_End\\lang\\lib\\site-packages\\langchain_core\\_api\\deprecation.py:117: LangChainDeprecationWarning: The function `__call__` was deprecated in LangChain 0.1.0 and will be removed in 0.2.0. Use invoke instead.\n",
      "  warn_deprecated(\n"
     ]
    },
    {
     "data": {
      "text/plain": [
       "{'country': 'India',\n",
       " 'capital': '\\n\\nThe capital of India is New Delhi.',\n",
       " 'places': \" Here are some amazing places to visit in New Delhi:\\n\\n1. Red Fort - A UNESCO World Heritage Site, this impressive red sandstone fort was the residence of Mughal emperors for nearly 200 years.\\n\\n2. Qutub Minar - This 73-meter tall minaret is the tallest brick minaret in the world and is also a UNESCO World Heritage Site.\\n\\n3. India Gate - A war memorial dedicated to Indian soldiers who lost their lives during World War I, this iconic landmark is a must-visit.\\n\\n4. Lotus Temple - This beautiful temple, shaped like a lotus flower, is a symbol of peace and is open to people of all religions.\\n\\n5. Humayun's Tomb - Another UNESCO World Heritage Site, this stunning tomb is the final resting place of Mughal Emperor Humayun.\\n\\n6. Jama Masjid - One of the largest mosques in India, Jama Masjid is a beautiful blend of Mughal and Indian architecture.\\n\\n7. Akshardham Temple - This modern Hindu temple complex is a popular tourist attraction for its grand architecture, beautiful gardens, and cultural exhibitions.\\n\\n8. Chandni Chowk - One of the oldest and busiest markets in Delhi, this bustling area is a paradise for foodies and shoppers alike\"}"
      ]
     },
     "execution_count": 20,
     "metadata": {},
     "output_type": "execute_result"
    }
   ],
   "source": [
    "chain({'country':\"India\"})"
   ]
  },
  {
   "cell_type": "markdown",
   "metadata": {},
   "source": [
    "# Chatmodels with chatOpenAI"
   ]
  },
  {
   "cell_type": "code",
   "execution_count": 21,
   "metadata": {},
   "outputs": [],
   "source": [
    "from langchain.chat_models import ChatOpenAI"
   ]
  },
  {
   "cell_type": "code",
   "execution_count": 22,
   "metadata": {},
   "outputs": [],
   "source": [
    "from langchain.schema import HumanMessage,SystemMessage,AIMessage"
   ]
  },
  {
   "cell_type": "code",
   "execution_count": 23,
   "metadata": {},
   "outputs": [
    {
     "name": "stderr",
     "output_type": "stream",
     "text": [
      "c:\\Users\\Anirudh\\OneDrive\\Desktop\\LangChain_End_To_End\\lang\\lib\\site-packages\\langchain_core\\_api\\deprecation.py:117: LangChainDeprecationWarning: The class `langchain_community.chat_models.openai.ChatOpenAI` was deprecated in langchain-community 0.0.10 and will be removed in 0.2.0. An updated version of the class exists in the langchain-openai package and should be used instead. To use it run `pip install -U langchain-openai` and import as `from langchain_openai import ChatOpenAI`.\n",
      "  warn_deprecated(\n"
     ]
    }
   ],
   "source": [
    "chatllm=ChatOpenAI(openai_api_key=os.environ[\"OPEN_API_KEY\"],temperature=0.6,model='gpt-3.5-turbo')"
   ]
  },
  {
   "cell_type": "code",
   "execution_count": 24,
   "metadata": {},
   "outputs": [
    {
     "name": "stderr",
     "output_type": "stream",
     "text": [
      "c:\\Users\\Anirudh\\OneDrive\\Desktop\\LangChain_End_To_End\\lang\\lib\\site-packages\\langchain_core\\_api\\deprecation.py:117: LangChainDeprecationWarning: The function `__call__` was deprecated in LangChain 0.1.7 and will be removed in 0.2.0. Use invoke instead.\n",
      "  warn_deprecated(\n"
     ]
    },
    {
     "data": {
      "text/plain": [
       "AIMessage(content='1. \"AI and humans have a lot in common - we both make mistakes, but at least AI can blame it on a glitch!\"\\n2. \"AI is like a toddler with a calculator - sure, it can do some impressive math, but you never know when it\\'s going to start throwing a tantrum.\"\\n3. \"I asked Siri for a joke and she said, \\'I don\\'t usually do this, but... knock knock.\\' I think she\\'s still learning the whole comedy thing.\"\\n4. \"AI is like that friend who always has an answer for everything, even if it\\'s totally irrelevant. \\'Hey Siri, what\\'s the meaning of life?\\' \\'Here\\'s a recipe for pancakes.\\' Thanks, AI.\"\\n5. \"AI might be able to beat us at chess and Jeopardy, but can it handle a bad Wi-Fi connection? That\\'s the real test of intelligence.\"\\n6. \"AI and I have a lot in common - we both have trouble understanding sarcasm. But at least I have the excuse of being a computer program!\"\\n7. \"AI is like a magic eight ball - you never know what answer you\\'re going to get, but you\\'re always hoping for something insightful. Instead, you get, \\'Reply hazy, try again.\\' Thanks a lot, AI.\"\\n8. \"AI is like a really smart pet - it can do tricks and fetch information, but you still have to clean up its digital messes.\"', response_metadata={'token_usage': {'completion_tokens': 296, 'prompt_tokens': 25, 'total_tokens': 321}, 'model_name': 'gpt-3.5-turbo', 'system_fingerprint': 'fp_c2295e73ad', 'finish_reason': 'stop', 'logprobs': None}, id='run-421aba0b-dcf6-43a7-ac08-a3ff0dac9d78-0')"
      ]
     },
     "execution_count": 24,
     "metadata": {},
     "output_type": "execute_result"
    }
   ],
   "source": [
    "chatllm([\n",
    "    SystemMessage(content=\"You are a comedian AI assistant\"),\n",
    "    HumanMessage(content=\"Please provide some comedy punchlines on AI\")\n",
    "])"
   ]
  },
  {
   "cell_type": "markdown",
   "metadata": {},
   "source": [
    "## Prompt Template + LLM + Output Parsers"
   ]
  },
  {
   "cell_type": "code",
   "execution_count": 27,
   "metadata": {},
   "outputs": [],
   "source": [
    "from langchain.chat_models import ChatOpenAI\n",
    "\n",
    "from langchain.prompts.chat import ChatPromptTemplate\n",
    "\n",
    "from langchain.schema import BaseOutputParser"
   ]
  },
  {
   "cell_type": "code",
   "execution_count": 28,
   "metadata": {},
   "outputs": [],
   "source": [
    "class Commaseperatedoutput(BaseOutputParser):\n",
    "    def parse(self,text:str):\n",
    "        return text.strip().split(\",\")"
   ]
  },
  {
   "cell_type": "code",
   "execution_count": 29,
   "metadata": {},
   "outputs": [],
   "source": [
    "template=\"You are a helpful assistant, when the use given any input, you should generate 5 comma seperated synonyms \"\n",
    "\n",
    "human_template=\"{text}\"\n",
    "\n",
    "chatprompt=ChatPromptTemplate.from_messages([(\"system\",template),(\"human\",human_template)])"
   ]
  },
  {
   "cell_type": "code",
   "execution_count": 30,
   "metadata": {},
   "outputs": [],
   "source": [
    "chain=chatprompt | chatllm |Commaseperatedoutput()"
   ]
  },
  {
   "cell_type": "code",
   "execution_count": 31,
   "metadata": {},
   "outputs": [
    {
     "data": {
      "text/plain": [
       "['smart', ' clever', ' wise', ' bright', ' astute']"
      ]
     },
     "execution_count": 31,
     "metadata": {},
     "output_type": "execute_result"
    }
   ],
   "source": [
    "chain.invoke({\"text\":\"intelligent\"})\n",
    "\n",
    "# using output parser we got output in thsi format"
   ]
  },
  {
   "cell_type": "code",
   "execution_count": null,
   "metadata": {},
   "outputs": [],
   "source": []
  }
 ],
 "metadata": {
  "kernelspec": {
   "display_name": "lang",
   "language": "python",
   "name": "python3"
  },
  "language_info": {
   "codemirror_mode": {
    "name": "ipython",
    "version": 3
   },
   "file_extension": ".py",
   "mimetype": "text/x-python",
   "name": "python",
   "nbconvert_exporter": "python",
   "pygments_lexer": "ipython3",
   "version": "3.10.1"
  }
 },
 "nbformat": 4,
 "nbformat_minor": 2
}
