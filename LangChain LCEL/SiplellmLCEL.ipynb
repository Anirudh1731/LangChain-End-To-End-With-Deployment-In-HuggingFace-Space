{
 "cells": [
  {
   "cell_type": "code",
   "execution_count": 1,
   "metadata": {},
   "outputs": [],
   "source": [
    "## Open Souce models --Llam 3, Gemma 2 , msitrel using Groq\n",
    "import os\n",
    "from dotenv import load_dotenv\n",
    "load_dotenv()\n",
    "\n",
    "\n",
    "import openai\n",
    "groq_api_key=os.getenv('GROQ_API_KEY')\n",
    "\n"
   ]
  },
  {
   "cell_type": "code",
   "execution_count": 2,
   "metadata": {},
   "outputs": [
    {
     "name": "stdout",
     "output_type": "stream",
     "text": [
      "Collecting langchain_groq\n",
      "  Downloading langchain_groq-0.2.3-py3-none-any.whl.metadata (3.0 kB)\n",
      "Collecting groq<1,>=0.4.1 (from langchain_groq)\n",
      "  Downloading groq-0.14.0-py3-none-any.whl.metadata (14 kB)\n",
      "Collecting langchain-core<0.4.0,>=0.3.29 (from langchain_groq)\n",
      "  Downloading langchain_core-0.3.29-py3-none-any.whl.metadata (6.3 kB)\n",
      "Requirement already satisfied: anyio<5,>=3.5.0 in c:\\users\\anirudh\\onedrive\\desktop\\langchain_end_to_end\\lang\\lib\\site-packages (from groq<1,>=0.4.1->langchain_groq) (4.3.0)\n",
      "Requirement already satisfied: distro<2,>=1.7.0 in c:\\users\\anirudh\\onedrive\\desktop\\langchain_end_to_end\\lang\\lib\\site-packages (from groq<1,>=0.4.1->langchain_groq) (1.9.0)\n",
      "Requirement already satisfied: httpx<1,>=0.23.0 in c:\\users\\anirudh\\onedrive\\desktop\\langchain_end_to_end\\lang\\lib\\site-packages (from groq<1,>=0.4.1->langchain_groq) (0.27.0)\n",
      "Requirement already satisfied: pydantic<3,>=1.9.0 in c:\\users\\anirudh\\onedrive\\desktop\\langchain_end_to_end\\lang\\lib\\site-packages (from groq<1,>=0.4.1->langchain_groq) (2.10.4)\n",
      "Requirement already satisfied: sniffio in c:\\users\\anirudh\\onedrive\\desktop\\langchain_end_to_end\\lang\\lib\\site-packages (from groq<1,>=0.4.1->langchain_groq) (1.3.1)\n",
      "Requirement already satisfied: typing-extensions<5,>=4.10 in c:\\users\\anirudh\\onedrive\\desktop\\langchain_end_to_end\\lang\\lib\\site-packages (from groq<1,>=0.4.1->langchain_groq) (4.12.2)\n",
      "Requirement already satisfied: PyYAML>=5.3 in c:\\users\\anirudh\\onedrive\\desktop\\langchain_end_to_end\\lang\\lib\\site-packages (from langchain-core<0.4.0,>=0.3.29->langchain_groq) (6.0.1)\n",
      "Requirement already satisfied: jsonpatch<2.0,>=1.33 in c:\\users\\anirudh\\onedrive\\desktop\\langchain_end_to_end\\lang\\lib\\site-packages (from langchain-core<0.4.0,>=0.3.29->langchain_groq) (1.33)\n",
      "Requirement already satisfied: langsmith<0.3,>=0.1.125 in c:\\users\\anirudh\\onedrive\\desktop\\langchain_end_to_end\\lang\\lib\\site-packages (from langchain-core<0.4.0,>=0.3.29->langchain_groq) (0.1.147)\n",
      "Requirement already satisfied: packaging<25,>=23.2 in c:\\users\\anirudh\\onedrive\\desktop\\langchain_end_to_end\\lang\\lib\\site-packages (from langchain-core<0.4.0,>=0.3.29->langchain_groq) (23.2)\n",
      "Requirement already satisfied: tenacity!=8.4.0,<10.0.0,>=8.1.0 in c:\\users\\anirudh\\onedrive\\desktop\\langchain_end_to_end\\lang\\lib\\site-packages (from langchain-core<0.4.0,>=0.3.29->langchain_groq) (8.2.3)\n",
      "Requirement already satisfied: idna>=2.8 in c:\\users\\anirudh\\onedrive\\desktop\\langchain_end_to_end\\lang\\lib\\site-packages (from anyio<5,>=3.5.0->groq<1,>=0.4.1->langchain_groq) (3.7)\n",
      "Requirement already satisfied: exceptiongroup>=1.0.2 in c:\\users\\anirudh\\onedrive\\desktop\\langchain_end_to_end\\lang\\lib\\site-packages (from anyio<5,>=3.5.0->groq<1,>=0.4.1->langchain_groq) (1.2.0)\n",
      "Requirement already satisfied: certifi in c:\\users\\anirudh\\onedrive\\desktop\\langchain_end_to_end\\lang\\lib\\site-packages (from httpx<1,>=0.23.0->groq<1,>=0.4.1->langchain_groq) (2024.2.2)\n",
      "Requirement already satisfied: httpcore==1.* in c:\\users\\anirudh\\onedrive\\desktop\\langchain_end_to_end\\lang\\lib\\site-packages (from httpx<1,>=0.23.0->groq<1,>=0.4.1->langchain_groq) (1.0.5)\n",
      "Requirement already satisfied: h11<0.15,>=0.13 in c:\\users\\anirudh\\onedrive\\desktop\\langchain_end_to_end\\lang\\lib\\site-packages (from httpcore==1.*->httpx<1,>=0.23.0->groq<1,>=0.4.1->langchain_groq) (0.14.0)\n",
      "Requirement already satisfied: jsonpointer>=1.9 in c:\\users\\anirudh\\onedrive\\desktop\\langchain_end_to_end\\lang\\lib\\site-packages (from jsonpatch<2.0,>=1.33->langchain-core<0.4.0,>=0.3.29->langchain_groq) (2.4)\n",
      "Requirement already satisfied: orjson<4.0.0,>=3.9.14 in c:\\users\\anirudh\\onedrive\\desktop\\langchain_end_to_end\\lang\\lib\\site-packages (from langsmith<0.3,>=0.1.125->langchain-core<0.4.0,>=0.3.29->langchain_groq) (3.10.0)\n",
      "Requirement already satisfied: requests<3,>=2 in c:\\users\\anirudh\\onedrive\\desktop\\langchain_end_to_end\\lang\\lib\\site-packages (from langsmith<0.3,>=0.1.125->langchain-core<0.4.0,>=0.3.29->langchain_groq) (2.31.0)\n",
      "Requirement already satisfied: requests-toolbelt<2.0.0,>=1.0.0 in c:\\users\\anirudh\\onedrive\\desktop\\langchain_end_to_end\\lang\\lib\\site-packages (from langsmith<0.3,>=0.1.125->langchain-core<0.4.0,>=0.3.29->langchain_groq) (1.0.0)\n",
      "Requirement already satisfied: annotated-types>=0.6.0 in c:\\users\\anirudh\\onedrive\\desktop\\langchain_end_to_end\\lang\\lib\\site-packages (from pydantic<3,>=1.9.0->groq<1,>=0.4.1->langchain_groq) (0.6.0)\n",
      "Requirement already satisfied: pydantic-core==2.27.2 in c:\\users\\anirudh\\onedrive\\desktop\\langchain_end_to_end\\lang\\lib\\site-packages (from pydantic<3,>=1.9.0->groq<1,>=0.4.1->langchain_groq) (2.27.2)\n",
      "Requirement already satisfied: charset-normalizer<4,>=2 in c:\\users\\anirudh\\onedrive\\desktop\\langchain_end_to_end\\lang\\lib\\site-packages (from requests<3,>=2->langsmith<0.3,>=0.1.125->langchain-core<0.4.0,>=0.3.29->langchain_groq) (3.3.2)\n",
      "Requirement already satisfied: urllib3<3,>=1.21.1 in c:\\users\\anirudh\\onedrive\\desktop\\langchain_end_to_end\\lang\\lib\\site-packages (from requests<3,>=2->langsmith<0.3,>=0.1.125->langchain-core<0.4.0,>=0.3.29->langchain_groq) (2.2.1)\n",
      "Downloading langchain_groq-0.2.3-py3-none-any.whl (14 kB)\n",
      "Downloading groq-0.14.0-py3-none-any.whl (109 kB)\n",
      "   ---------------------------------------- 0.0/109.5 kB ? eta -:--:--\n",
      "   ---------------------------------------- 109.5/109.5 kB 3.2 MB/s eta 0:00:00\n",
      "Downloading langchain_core-0.3.29-py3-none-any.whl (411 kB)\n",
      "   ---------------------------------------- 0.0/411.6 kB ? eta -:--:--\n",
      "   -------------------------- ------------- 276.5/411.6 kB 8.6 MB/s eta 0:00:01\n",
      "   ------------------------------ --------- 317.4/411.6 kB 6.5 MB/s eta 0:00:01\n",
      "   ---------------------------------------- 411.6/411.6 kB 3.7 MB/s eta 0:00:00\n",
      "Installing collected packages: groq, langchain-core, langchain_groq\n",
      "  Attempting uninstall: langchain-core\n",
      "    Found existing installation: langchain-core 0.3.28\n",
      "    Uninstalling langchain-core-0.3.28:\n",
      "      Successfully uninstalled langchain-core-0.3.28\n",
      "Successfully installed groq-0.14.0 langchain-core-0.3.29 langchain_groq-0.2.3\n"
     ]
    },
    {
     "name": "stderr",
     "output_type": "stream",
     "text": [
      "ERROR: pip's dependency resolver does not currently take into account all the packages that are installed. This behaviour is the source of the following dependency conflicts.\n",
      "langchain-google-genai 1.0.4 requires langchain-core<0.3,>=0.1.45, but you have langchain-core 0.3.29 which is incompatible.\n",
      "\n",
      "[notice] A new release of pip is available: 24.0 -> 24.3.1\n",
      "[notice] To update, run: python.exe -m pip install --upgrade pip\n"
     ]
    }
   ],
   "source": [
    "!pip install langchain_groq"
   ]
  },
  {
   "cell_type": "code",
   "execution_count": 3,
   "metadata": {},
   "outputs": [
    {
     "data": {
      "text/plain": [
       "ChatGroq(client=<groq.resources.chat.completions.Completions object at 0x0000026EF1DAE290>, async_client=<groq.resources.chat.completions.AsyncCompletions object at 0x0000026EF1DD00D0>, model_name='Gemma2-9b-It', model_kwargs={}, groq_api_key=SecretStr('**********'))"
      ]
     },
     "execution_count": 3,
     "metadata": {},
     "output_type": "execute_result"
    }
   ],
   "source": [
    "from langchain_groq import ChatGroq\n",
    "\n",
    "\n",
    "model=ChatGroq(model=\"Gemma2-9b-It\",groq_api_key=groq_api_key)\n",
    "model"
   ]
  },
  {
   "cell_type": "code",
   "execution_count": 4,
   "metadata": {},
   "outputs": [],
   "source": [
    "from langchain_core.messages import HumanMessage,SystemMessage\n"
   ]
  },
  {
   "cell_type": "code",
   "execution_count": 5,
   "metadata": {},
   "outputs": [
    {
     "data": {
      "text/plain": [
       "AIMessage(content='Bonjour, comment allez-vous ? \\n', additional_kwargs={}, response_metadata={'token_usage': {'completion_tokens': 11, 'prompt_tokens': 20, 'total_tokens': 31, 'completion_time': 0.02, 'prompt_time': 7.787e-05, 'queue_time': 0.020206678, 'total_time': 0.02007787}, 'model_name': 'Gemma2-9b-It', 'system_fingerprint': 'fp_10c08bf97d', 'finish_reason': 'stop', 'logprobs': None}, id='run-c7018648-cbe5-4427-b176-0860d4f4dd4b-0', usage_metadata={'input_tokens': 20, 'output_tokens': 11, 'total_tokens': 31})"
      ]
     },
     "execution_count": 5,
     "metadata": {},
     "output_type": "execute_result"
    }
   ],
   "source": [
    "message=[\n",
    "    SystemMessage(content=\"Translate teh following from English to French\"),\n",
    "    HumanMessage(content=\"Hello how are you\")\n",
    "]\n",
    "\n",
    "#Response from AI\n",
    "model.invoke(message)\n",
    "\n",
    "\n",
    "#System message defines how the llm should behave and Human message is what human will send\n"
   ]
  },
  {
   "cell_type": "code",
   "execution_count": null,
   "metadata": {},
   "outputs": [],
   "source": []
  }
 ],
 "metadata": {
  "kernelspec": {
   "display_name": "lang",
   "language": "python",
   "name": "python3"
  },
  "language_info": {
   "codemirror_mode": {
    "name": "ipython",
    "version": 3
   },
   "file_extension": ".py",
   "mimetype": "text/x-python",
   "name": "python",
   "nbconvert_exporter": "python",
   "pygments_lexer": "ipython3",
   "version": "3.10.1"
  }
 },
 "nbformat": 4,
 "nbformat_minor": 2
}
